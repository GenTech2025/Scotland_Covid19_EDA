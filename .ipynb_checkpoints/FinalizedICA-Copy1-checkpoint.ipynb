{
 "cells": [
  {
   "cell_type": "markdown",
   "id": "52f13f07",
   "metadata": {},
   "source": [
    "# <center>Analysis of publicly available data to get insights on the progression and impact of COVID-19 in Scotland </center>"
   ]
  },
  {
   "cell_type": "markdown",
   "id": "0d11639c",
   "metadata": {},
   "source": [
    "**<center>Exam Number: B243232</center>**"
   ]
  },
  {
   "cell_type": "markdown",
   "id": "c2816d51",
   "metadata": {},
   "source": [
    "## Data Accquisation\n",
    "The datasets were downloaded from the suggested sources as defined the assessment document. Link for each of them has been provided in the points below\n",
    "- [Daily and Cumulative Cases](https://www.opendata.nhs.scot/dataset/covid-19-in-scotland/resource/287fc645-4352-4477-9c8c-55bc054b7e76)\n",
    "- [Daily COVID-19 Hospital Admissions](https://www.opendata.nhs.scot/dataset/covid-19-in-scotland/resource/bb4d083b-7b92-4722-85a3-a9b58af1f794)\n",
    "- [Daily Summary by Reported Date(for vaccination information)](https://www.opendata.nhs.scot/dataset/covid-19-in-scotland/resource/348e5b95-2b33-4021-93b4-25d78244bfa2)\n",
    "\n",
    "- [Updated data sources(not archived)](https://www.opendata.nhs.scot/dataset/viral-respiratory-diseases-including-influenza-and-covid-19-data-in-scotland)\n",
    "- [Scotland Corona Virus Tracker](https://www.travellingtabby.com/scotland-coronavirus-tracker/)"
   ]
  },
  {
   "cell_type": "markdown",
   "id": "116423c1",
   "metadata": {},
   "source": [
    "### Data Preprocessing and Cleaning"
   ]
  },
  {
   "cell_type": "code",
   "execution_count": 1,
   "id": "d1bf0901",
   "metadata": {},
   "outputs": [],
   "source": [
    "# Load Libraries\n",
    "import os\n",
    "import numpy as np\n",
    "import pandas as pd\n",
    "import matplotlib.pyplot as plt\n",
    "import plotly.graph_objects as go"
   ]
  },
  {
   "cell_type": "code",
   "execution_count": 2,
   "id": "c1b2e586",
   "metadata": {},
   "outputs": [
    {
     "data": {
      "text/plain": [
       "'C:\\\\Users\\\\royso\\\\OneDrive\\\\Desktop\\\\PDS_ICA'"
      ]
     },
     "execution_count": 2,
     "metadata": {},
     "output_type": "execute_result"
    }
   ],
   "source": [
    "# Print the current working directory\n",
    "os.getcwd()"
   ]
  },
  {
   "cell_type": "code",
   "execution_count": 3,
   "id": "834a7b12",
   "metadata": {},
   "outputs": [],
   "source": [
    "# Read in the data from csv file\n",
    "daily_cases_raw = pd.read_csv(\"./daily_cuml_scot_20231004.csv\")\n",
    "vaccination_raw = pd.read_csv(\"./daily_covid_all_delivered_vacc_scot_20230406.csv\")"
   ]
  },
  {
   "cell_type": "markdown",
   "id": "9d0f2340",
   "metadata": {},
   "source": [
    "#### Cleaning the data"
   ]
  },
  {
   "cell_type": "code",
   "execution_count": 10,
   "id": "75c0c307",
   "metadata": {},
   "outputs": [
    {
     "data": {
      "text/html": [
       "<div>\n",
       "<style scoped>\n",
       "    .dataframe tbody tr th:only-of-type {\n",
       "        vertical-align: middle;\n",
       "    }\n",
       "\n",
       "    .dataframe tbody tr th {\n",
       "        vertical-align: top;\n",
       "    }\n",
       "\n",
       "    .dataframe thead th {\n",
       "        text-align: right;\n",
       "    }\n",
       "</style>\n",
       "<table border=\"1\" class=\"dataframe\">\n",
       "  <thead>\n",
       "    <tr style=\"text-align: right;\">\n",
       "      <th></th>\n",
       "      <th>Date</th>\n",
       "      <th>DailyCases</th>\n",
       "      <th>CumulativeCases</th>\n",
       "      <th>Deaths</th>\n",
       "      <th>DeathsQF</th>\n",
       "      <th>PCROnly</th>\n",
       "      <th>PCROnlyCumulative</th>\n",
       "      <th>LFDOnly</th>\n",
       "      <th>LFDOnlyCumulative</th>\n",
       "      <th>LFDAndPCR</th>\n",
       "      <th>LFDAndPCRCumulative</th>\n",
       "      <th>FirstInfections</th>\n",
       "      <th>FirstInfectionsCumulative</th>\n",
       "      <th>Reinfections</th>\n",
       "      <th>ReinfectionsCumulative</th>\n",
       "      <th>PercentReinfections</th>\n",
       "      <th>PercentReinfectionsCumulative</th>\n",
       "    </tr>\n",
       "  </thead>\n",
       "  <tbody>\n",
       "    <tr>\n",
       "      <th>0</th>\n",
       "      <td>20200228</td>\n",
       "      <td>1</td>\n",
       "      <td>1</td>\n",
       "      <td>0.0</td>\n",
       "      <td>NaN</td>\n",
       "      <td>NaN</td>\n",
       "      <td>NaN</td>\n",
       "      <td>NaN</td>\n",
       "      <td>NaN</td>\n",
       "      <td>NaN</td>\n",
       "      <td>NaN</td>\n",
       "      <td>1</td>\n",
       "      <td>1</td>\n",
       "      <td>0</td>\n",
       "      <td>0</td>\n",
       "      <td>0.0</td>\n",
       "      <td>0.0</td>\n",
       "    </tr>\n",
       "    <tr>\n",
       "      <th>1</th>\n",
       "      <td>20200229</td>\n",
       "      <td>0</td>\n",
       "      <td>1</td>\n",
       "      <td>0.0</td>\n",
       "      <td>NaN</td>\n",
       "      <td>NaN</td>\n",
       "      <td>NaN</td>\n",
       "      <td>NaN</td>\n",
       "      <td>NaN</td>\n",
       "      <td>NaN</td>\n",
       "      <td>NaN</td>\n",
       "      <td>0</td>\n",
       "      <td>1</td>\n",
       "      <td>0</td>\n",
       "      <td>0</td>\n",
       "      <td>NaN</td>\n",
       "      <td>0.0</td>\n",
       "    </tr>\n",
       "    <tr>\n",
       "      <th>2</th>\n",
       "      <td>20200301</td>\n",
       "      <td>2</td>\n",
       "      <td>3</td>\n",
       "      <td>0.0</td>\n",
       "      <td>NaN</td>\n",
       "      <td>NaN</td>\n",
       "      <td>NaN</td>\n",
       "      <td>NaN</td>\n",
       "      <td>NaN</td>\n",
       "      <td>NaN</td>\n",
       "      <td>NaN</td>\n",
       "      <td>2</td>\n",
       "      <td>3</td>\n",
       "      <td>0</td>\n",
       "      <td>0</td>\n",
       "      <td>0.0</td>\n",
       "      <td>0.0</td>\n",
       "    </tr>\n",
       "    <tr>\n",
       "      <th>3</th>\n",
       "      <td>20200302</td>\n",
       "      <td>1</td>\n",
       "      <td>4</td>\n",
       "      <td>0.0</td>\n",
       "      <td>NaN</td>\n",
       "      <td>NaN</td>\n",
       "      <td>NaN</td>\n",
       "      <td>NaN</td>\n",
       "      <td>NaN</td>\n",
       "      <td>NaN</td>\n",
       "      <td>NaN</td>\n",
       "      <td>1</td>\n",
       "      <td>4</td>\n",
       "      <td>0</td>\n",
       "      <td>0</td>\n",
       "      <td>0.0</td>\n",
       "      <td>0.0</td>\n",
       "    </tr>\n",
       "    <tr>\n",
       "      <th>4</th>\n",
       "      <td>20200303</td>\n",
       "      <td>3</td>\n",
       "      <td>7</td>\n",
       "      <td>0.0</td>\n",
       "      <td>NaN</td>\n",
       "      <td>NaN</td>\n",
       "      <td>NaN</td>\n",
       "      <td>NaN</td>\n",
       "      <td>NaN</td>\n",
       "      <td>NaN</td>\n",
       "      <td>NaN</td>\n",
       "      <td>3</td>\n",
       "      <td>7</td>\n",
       "      <td>0</td>\n",
       "      <td>0</td>\n",
       "      <td>0.0</td>\n",
       "      <td>0.0</td>\n",
       "    </tr>\n",
       "  </tbody>\n",
       "</table>\n",
       "</div>"
      ],
      "text/plain": [
       "       Date  DailyCases  CumulativeCases  Deaths DeathsQF  PCROnly  \\\n",
       "0  20200228           1                1     0.0      NaN      NaN   \n",
       "1  20200229           0                1     0.0      NaN      NaN   \n",
       "2  20200301           2                3     0.0      NaN      NaN   \n",
       "3  20200302           1                4     0.0      NaN      NaN   \n",
       "4  20200303           3                7     0.0      NaN      NaN   \n",
       "\n",
       "   PCROnlyCumulative  LFDOnly  LFDOnlyCumulative  LFDAndPCR  \\\n",
       "0                NaN      NaN                NaN        NaN   \n",
       "1                NaN      NaN                NaN        NaN   \n",
       "2                NaN      NaN                NaN        NaN   \n",
       "3                NaN      NaN                NaN        NaN   \n",
       "4                NaN      NaN                NaN        NaN   \n",
       "\n",
       "   LFDAndPCRCumulative  FirstInfections  FirstInfectionsCumulative  \\\n",
       "0                  NaN                1                          1   \n",
       "1                  NaN                0                          1   \n",
       "2                  NaN                2                          3   \n",
       "3                  NaN                1                          4   \n",
       "4                  NaN                3                          7   \n",
       "\n",
       "   Reinfections  ReinfectionsCumulative  PercentReinfections  \\\n",
       "0             0                       0                  0.0   \n",
       "1             0                       0                  NaN   \n",
       "2             0                       0                  0.0   \n",
       "3             0                       0                  0.0   \n",
       "4             0                       0                  0.0   \n",
       "\n",
       "   PercentReinfectionsCumulative  \n",
       "0                            0.0  \n",
       "1                            0.0  \n",
       "2                            0.0  \n",
       "3                            0.0  \n",
       "4                            0.0  "
      ]
     },
     "execution_count": 10,
     "metadata": {},
     "output_type": "execute_result"
    }
   ],
   "source": [
    "# Cleaning the raw cases data\n",
    "daily_cases_raw.head(5)"
   ]
  },
  {
   "cell_type": "code",
   "execution_count": 11,
   "id": "d24270fe",
   "metadata": {},
   "outputs": [
    {
     "data": {
      "text/html": [
       "<div>\n",
       "<style scoped>\n",
       "    .dataframe tbody tr th:only-of-type {\n",
       "        vertical-align: middle;\n",
       "    }\n",
       "\n",
       "    .dataframe tbody tr th {\n",
       "        vertical-align: top;\n",
       "    }\n",
       "\n",
       "    .dataframe thead th {\n",
       "        text-align: right;\n",
       "    }\n",
       "</style>\n",
       "<table border=\"1\" class=\"dataframe\">\n",
       "  <thead>\n",
       "    <tr style=\"text-align: right;\">\n",
       "      <th></th>\n",
       "      <th>Date</th>\n",
       "      <th>DailyCases</th>\n",
       "      <th>CumulativeCases</th>\n",
       "      <th>Deaths</th>\n",
       "      <th>DeathsQF</th>\n",
       "      <th>PCROnly</th>\n",
       "      <th>PCROnlyCumulative</th>\n",
       "      <th>LFDOnly</th>\n",
       "      <th>LFDOnlyCumulative</th>\n",
       "      <th>LFDAndPCR</th>\n",
       "      <th>LFDAndPCRCumulative</th>\n",
       "      <th>FirstInfections</th>\n",
       "      <th>FirstInfectionsCumulative</th>\n",
       "      <th>Reinfections</th>\n",
       "      <th>ReinfectionsCumulative</th>\n",
       "      <th>PercentReinfections</th>\n",
       "      <th>PercentReinfectionsCumulative</th>\n",
       "    </tr>\n",
       "  </thead>\n",
       "  <tbody>\n",
       "    <tr>\n",
       "      <th>1307</th>\n",
       "      <td>20230927</td>\n",
       "      <td>166</td>\n",
       "      <td>2188389</td>\n",
       "      <td>NaN</td>\n",
       "      <td>:</td>\n",
       "      <td>79.0</td>\n",
       "      <td>1472289.0</td>\n",
       "      <td>87.0</td>\n",
       "      <td>564721.0</td>\n",
       "      <td>0.0</td>\n",
       "      <td>151379.0</td>\n",
       "      <td>102</td>\n",
       "      <td>2017341</td>\n",
       "      <td>64</td>\n",
       "      <td>171048</td>\n",
       "      <td>38.554217</td>\n",
       "      <td>7.816161</td>\n",
       "    </tr>\n",
       "    <tr>\n",
       "      <th>1308</th>\n",
       "      <td>20230928</td>\n",
       "      <td>166</td>\n",
       "      <td>2188555</td>\n",
       "      <td>NaN</td>\n",
       "      <td>:</td>\n",
       "      <td>87.0</td>\n",
       "      <td>1472376.0</td>\n",
       "      <td>79.0</td>\n",
       "      <td>564800.0</td>\n",
       "      <td>0.0</td>\n",
       "      <td>151379.0</td>\n",
       "      <td>95</td>\n",
       "      <td>2017436</td>\n",
       "      <td>71</td>\n",
       "      <td>171119</td>\n",
       "      <td>42.771084</td>\n",
       "      <td>7.818812</td>\n",
       "    </tr>\n",
       "    <tr>\n",
       "      <th>1309</th>\n",
       "      <td>20230929</td>\n",
       "      <td>163</td>\n",
       "      <td>2188718</td>\n",
       "      <td>NaN</td>\n",
       "      <td>:</td>\n",
       "      <td>90.0</td>\n",
       "      <td>1472466.0</td>\n",
       "      <td>73.0</td>\n",
       "      <td>564873.0</td>\n",
       "      <td>0.0</td>\n",
       "      <td>151379.0</td>\n",
       "      <td>112</td>\n",
       "      <td>2017548</td>\n",
       "      <td>51</td>\n",
       "      <td>171170</td>\n",
       "      <td>31.288344</td>\n",
       "      <td>7.820560</td>\n",
       "    </tr>\n",
       "    <tr>\n",
       "      <th>1310</th>\n",
       "      <td>20230930</td>\n",
       "      <td>134</td>\n",
       "      <td>2188852</td>\n",
       "      <td>NaN</td>\n",
       "      <td>:</td>\n",
       "      <td>62.0</td>\n",
       "      <td>1472528.0</td>\n",
       "      <td>72.0</td>\n",
       "      <td>564945.0</td>\n",
       "      <td>0.0</td>\n",
       "      <td>151379.0</td>\n",
       "      <td>90</td>\n",
       "      <td>2017638</td>\n",
       "      <td>44</td>\n",
       "      <td>171214</td>\n",
       "      <td>32.835821</td>\n",
       "      <td>7.822091</td>\n",
       "    </tr>\n",
       "    <tr>\n",
       "      <th>1311</th>\n",
       "      <td>20231001</td>\n",
       "      <td>156</td>\n",
       "      <td>2189008</td>\n",
       "      <td>NaN</td>\n",
       "      <td>:</td>\n",
       "      <td>70.0</td>\n",
       "      <td>1472598.0</td>\n",
       "      <td>85.0</td>\n",
       "      <td>565030.0</td>\n",
       "      <td>1.0</td>\n",
       "      <td>151380.0</td>\n",
       "      <td>101</td>\n",
       "      <td>2017739</td>\n",
       "      <td>55</td>\n",
       "      <td>171269</td>\n",
       "      <td>35.256410</td>\n",
       "      <td>7.824046</td>\n",
       "    </tr>\n",
       "  </tbody>\n",
       "</table>\n",
       "</div>"
      ],
      "text/plain": [
       "          Date  DailyCases  CumulativeCases  Deaths DeathsQF  PCROnly  \\\n",
       "1307  20230927         166          2188389     NaN        :     79.0   \n",
       "1308  20230928         166          2188555     NaN        :     87.0   \n",
       "1309  20230929         163          2188718     NaN        :     90.0   \n",
       "1310  20230930         134          2188852     NaN        :     62.0   \n",
       "1311  20231001         156          2189008     NaN        :     70.0   \n",
       "\n",
       "      PCROnlyCumulative  LFDOnly  LFDOnlyCumulative  LFDAndPCR  \\\n",
       "1307          1472289.0     87.0           564721.0        0.0   \n",
       "1308          1472376.0     79.0           564800.0        0.0   \n",
       "1309          1472466.0     73.0           564873.0        0.0   \n",
       "1310          1472528.0     72.0           564945.0        0.0   \n",
       "1311          1472598.0     85.0           565030.0        1.0   \n",
       "\n",
       "      LFDAndPCRCumulative  FirstInfections  FirstInfectionsCumulative  \\\n",
       "1307             151379.0              102                    2017341   \n",
       "1308             151379.0               95                    2017436   \n",
       "1309             151379.0              112                    2017548   \n",
       "1310             151379.0               90                    2017638   \n",
       "1311             151380.0              101                    2017739   \n",
       "\n",
       "      Reinfections  ReinfectionsCumulative  PercentReinfections  \\\n",
       "1307            64                  171048            38.554217   \n",
       "1308            71                  171119            42.771084   \n",
       "1309            51                  171170            31.288344   \n",
       "1310            44                  171214            32.835821   \n",
       "1311            55                  171269            35.256410   \n",
       "\n",
       "      PercentReinfectionsCumulative  \n",
       "1307                       7.816161  \n",
       "1308                       7.818812  \n",
       "1309                       7.820560  \n",
       "1310                       7.822091  \n",
       "1311                       7.824046  "
      ]
     },
     "execution_count": 11,
     "metadata": {},
     "output_type": "execute_result"
    }
   ],
   "source": [
    "daily_cases_raw.tail(5)"
   ]
  },
  {
   "cell_type": "code",
   "execution_count": 4,
   "id": "df0176ba",
   "metadata": {},
   "outputs": [],
   "source": [
    "# Removing unecessary columns\n",
    "daily_cases_raw = daily_cases_raw.drop(daily_cases_raw.columns[4:11], axis=1)"
   ]
  },
  {
   "cell_type": "code",
   "execution_count": 5,
   "id": "4bd34faa",
   "metadata": {},
   "outputs": [
    {
     "data": {
      "text/plain": [
       "(1312, 10)"
      ]
     },
     "execution_count": 5,
     "metadata": {},
     "output_type": "execute_result"
    }
   ],
   "source": [
    "daily_cases_raw.shape"
   ]
  },
  {
   "cell_type": "code",
   "execution_count": 6,
   "id": "e59a8639",
   "metadata": {},
   "outputs": [
    {
     "data": {
      "text/plain": [
       "Date                             1312\n",
       "DailyCases                        960\n",
       "CumulativeCases                  1311\n",
       "Deaths                            707\n",
       "FirstInfections                   921\n",
       "FirstInfectionsCumulative        1311\n",
       "Reinfections                      355\n",
       "ReinfectionsCumulative           1095\n",
       "PercentReinfections              1042\n",
       "PercentReinfectionsCumulative    1209\n",
       "dtype: int64"
      ]
     },
     "execution_count": 6,
     "metadata": {},
     "output_type": "execute_result"
    }
   ],
   "source": [
    "daily_cases_raw.nunique()"
   ]
  },
  {
   "cell_type": "code",
   "execution_count": 18,
   "id": "4f66b58c",
   "metadata": {},
   "outputs": [],
   "source": [
    "# daily_cases_raw.describe() # Summary statistics stable"
   ]
  },
  {
   "cell_type": "code",
   "execution_count": 7,
   "id": "50ac4036",
   "metadata": {},
   "outputs": [],
   "source": [
    "# Convert the Date column to datetime\n",
    "daily_cases_raw['Date'] = pd.to_datetime(daily_cases_raw['Date'], format='%Y%m%d')"
   ]
  },
  {
   "cell_type": "code",
   "execution_count": 8,
   "id": "b0769984",
   "metadata": {},
   "outputs": [
    {
     "data": {
      "text/html": [
       "<div>\n",
       "<style scoped>\n",
       "    .dataframe tbody tr th:only-of-type {\n",
       "        vertical-align: middle;\n",
       "    }\n",
       "\n",
       "    .dataframe tbody tr th {\n",
       "        vertical-align: top;\n",
       "    }\n",
       "\n",
       "    .dataframe thead th {\n",
       "        text-align: right;\n",
       "    }\n",
       "</style>\n",
       "<table border=\"1\" class=\"dataframe\">\n",
       "  <thead>\n",
       "    <tr style=\"text-align: right;\">\n",
       "      <th></th>\n",
       "      <th>Date</th>\n",
       "      <th>DailyCases</th>\n",
       "      <th>CumulativeCases</th>\n",
       "      <th>Deaths</th>\n",
       "      <th>FirstInfections</th>\n",
       "      <th>FirstInfectionsCumulative</th>\n",
       "      <th>Reinfections</th>\n",
       "      <th>ReinfectionsCumulative</th>\n",
       "      <th>PercentReinfections</th>\n",
       "      <th>PercentReinfectionsCumulative</th>\n",
       "    </tr>\n",
       "  </thead>\n",
       "  <tbody>\n",
       "    <tr>\n",
       "      <th>1307</th>\n",
       "      <td>2023-09-27</td>\n",
       "      <td>166</td>\n",
       "      <td>2188389</td>\n",
       "      <td>NaN</td>\n",
       "      <td>102</td>\n",
       "      <td>2017341</td>\n",
       "      <td>64</td>\n",
       "      <td>171048</td>\n",
       "      <td>38.554217</td>\n",
       "      <td>7.816161</td>\n",
       "    </tr>\n",
       "    <tr>\n",
       "      <th>1308</th>\n",
       "      <td>2023-09-28</td>\n",
       "      <td>166</td>\n",
       "      <td>2188555</td>\n",
       "      <td>NaN</td>\n",
       "      <td>95</td>\n",
       "      <td>2017436</td>\n",
       "      <td>71</td>\n",
       "      <td>171119</td>\n",
       "      <td>42.771084</td>\n",
       "      <td>7.818812</td>\n",
       "    </tr>\n",
       "    <tr>\n",
       "      <th>1309</th>\n",
       "      <td>2023-09-29</td>\n",
       "      <td>163</td>\n",
       "      <td>2188718</td>\n",
       "      <td>NaN</td>\n",
       "      <td>112</td>\n",
       "      <td>2017548</td>\n",
       "      <td>51</td>\n",
       "      <td>171170</td>\n",
       "      <td>31.288344</td>\n",
       "      <td>7.820560</td>\n",
       "    </tr>\n",
       "    <tr>\n",
       "      <th>1310</th>\n",
       "      <td>2023-09-30</td>\n",
       "      <td>134</td>\n",
       "      <td>2188852</td>\n",
       "      <td>NaN</td>\n",
       "      <td>90</td>\n",
       "      <td>2017638</td>\n",
       "      <td>44</td>\n",
       "      <td>171214</td>\n",
       "      <td>32.835821</td>\n",
       "      <td>7.822091</td>\n",
       "    </tr>\n",
       "    <tr>\n",
       "      <th>1311</th>\n",
       "      <td>2023-10-01</td>\n",
       "      <td>156</td>\n",
       "      <td>2189008</td>\n",
       "      <td>NaN</td>\n",
       "      <td>101</td>\n",
       "      <td>2017739</td>\n",
       "      <td>55</td>\n",
       "      <td>171269</td>\n",
       "      <td>35.256410</td>\n",
       "      <td>7.824046</td>\n",
       "    </tr>\n",
       "  </tbody>\n",
       "</table>\n",
       "</div>"
      ],
      "text/plain": [
       "           Date  DailyCases  CumulativeCases  Deaths  FirstInfections  \\\n",
       "1307 2023-09-27         166          2188389     NaN              102   \n",
       "1308 2023-09-28         166          2188555     NaN               95   \n",
       "1309 2023-09-29         163          2188718     NaN              112   \n",
       "1310 2023-09-30         134          2188852     NaN               90   \n",
       "1311 2023-10-01         156          2189008     NaN              101   \n",
       "\n",
       "      FirstInfectionsCumulative  Reinfections  ReinfectionsCumulative  \\\n",
       "1307                    2017341            64                  171048   \n",
       "1308                    2017436            71                  171119   \n",
       "1309                    2017548            51                  171170   \n",
       "1310                    2017638            44                  171214   \n",
       "1311                    2017739            55                  171269   \n",
       "\n",
       "      PercentReinfections  PercentReinfectionsCumulative  \n",
       "1307            38.554217                       7.816161  \n",
       "1308            42.771084                       7.818812  \n",
       "1309            31.288344                       7.820560  \n",
       "1310            32.835821                       7.822091  \n",
       "1311            35.256410                       7.824046  "
      ]
     },
     "execution_count": 8,
     "metadata": {},
     "output_type": "execute_result"
    }
   ],
   "source": [
    "daily_cases_raw.tail(5)"
   ]
  },
  {
   "cell_type": "code",
   "execution_count": 9,
   "id": "b2db3ca1",
   "metadata": {},
   "outputs": [
    {
     "data": {
      "image/png": "[encoded data removed]",
      "text/plain": [
       "<Figure size 1000x600 with 1 Axes>"
      ]
     },
     "metadata": {},
     "output_type": "display_data"
    }
   ],
   "source": [
    "# Plotting a simple line graph using matplotlib for daily cases from 2020 to 2023\n",
    "plt.figure(figsize=(10, 6))\n",
    "plt.plot(daily_cases_raw['Date'], daily_cases_raw['DailyCases'])\n",
    "plt.title('Number of Daily Cases From 2020 to 2023')\n",
    "plt.xlabel('Date')\n",
    "plt.ylabel('Number of Daily Cases')\n",
    "plt.grid(False)\n",
    "plt.xticks(rotation=45)\n",
    "plt.tight_layout()\n",
    "plt.show()"
   ]
  },
  {
   "cell_type": "markdown",
   "id": "359c7627",
   "metadata": {},
   "source": [
    "#### Cleaning the vaccination data"
   ]
  },
  {
   "cell_type": "code",
   "execution_count": 10,
   "id": "ad8736e7",
   "metadata": {},
   "outputs": [
    {
     "data": {
      "text/html": [
       "<div>\n",
       "<style scoped>\n",
       "    .dataframe tbody tr th:only-of-type {\n",
       "        vertical-align: middle;\n",
       "    }\n",
       "\n",
       "    .dataframe tbody tr th {\n",
       "        vertical-align: top;\n",
       "    }\n",
       "\n",
       "    .dataframe thead th {\n",
       "        text-align: right;\n",
       "    }\n",
       "</style>\n",
       "<table border=\"1\" class=\"dataframe\">\n",
       "  <thead>\n",
       "    <tr style=\"text-align: right;\">\n",
       "      <th></th>\n",
       "      <th>Date</th>\n",
       "      <th>Country</th>\n",
       "      <th>Dose</th>\n",
       "      <th>CumulativeNumberVaccinated</th>\n",
       "      <th>AgeBand</th>\n",
       "    </tr>\n",
       "  </thead>\n",
       "  <tbody>\n",
       "    <tr>\n",
       "      <th>0</th>\n",
       "      <td>20220905</td>\n",
       "      <td>S92000003</td>\n",
       "      <td>Dose 1</td>\n",
       "      <td>4551004</td>\n",
       "      <td>All vaccinations</td>\n",
       "    </tr>\n",
       "    <tr>\n",
       "      <th>1</th>\n",
       "      <td>20220905</td>\n",
       "      <td>S92000003</td>\n",
       "      <td>Dose 2</td>\n",
       "      <td>4289122</td>\n",
       "      <td>All vaccinations</td>\n",
       "    </tr>\n",
       "    <tr>\n",
       "      <th>2</th>\n",
       "      <td>20220905</td>\n",
       "      <td>S92000003</td>\n",
       "      <td>Winter Booster 2022</td>\n",
       "      <td>7569</td>\n",
       "      <td>50 years and over</td>\n",
       "    </tr>\n",
       "    <tr>\n",
       "      <th>3</th>\n",
       "      <td>20220906</td>\n",
       "      <td>S92000003</td>\n",
       "      <td>Dose 1</td>\n",
       "      <td>4551059</td>\n",
       "      <td>All vaccinations</td>\n",
       "    </tr>\n",
       "    <tr>\n",
       "      <th>4</th>\n",
       "      <td>20220906</td>\n",
       "      <td>S92000003</td>\n",
       "      <td>Dose 2</td>\n",
       "      <td>4289278</td>\n",
       "      <td>All vaccinations</td>\n",
       "    </tr>\n",
       "  </tbody>\n",
       "</table>\n",
       "</div>"
      ],
      "text/plain": [
       "       Date    Country                 Dose  CumulativeNumberVaccinated  \\\n",
       "0  20220905  S92000003               Dose 1                     4551004   \n",
       "1  20220905  S92000003               Dose 2                     4289122   \n",
       "2  20220905  S92000003  Winter Booster 2022                        7569   \n",
       "3  20220906  S92000003               Dose 1                     4551059   \n",
       "4  20220906  S92000003               Dose 2                     4289278   \n",
       "\n",
       "             AgeBand  \n",
       "0   All vaccinations  \n",
       "1   All vaccinations  \n",
       "2  50 years and over  \n",
       "3   All vaccinations  \n",
       "4   All vaccinations  "
      ]
     },
     "execution_count": 10,
     "metadata": {},
     "output_type": "execute_result"
    }
   ],
   "source": [
    "vaccination_raw.head(5)"
   ]
  },
  {
   "cell_type": "code",
   "execution_count": 11,
   "id": "d8a0e94b",
   "metadata": {},
   "outputs": [
    {
     "data": {
      "text/html": [
       "<div>\n",
       "<style scoped>\n",
       "    .dataframe tbody tr th:only-of-type {\n",
       "        vertical-align: middle;\n",
       "    }\n",
       "\n",
       "    .dataframe tbody tr th {\n",
       "        vertical-align: top;\n",
       "    }\n",
       "\n",
       "    .dataframe thead th {\n",
       "        text-align: right;\n",
       "    }\n",
       "</style>\n",
       "<table border=\"1\" class=\"dataframe\">\n",
       "  <thead>\n",
       "    <tr style=\"text-align: right;\">\n",
       "      <th></th>\n",
       "      <th>Date</th>\n",
       "      <th>Country</th>\n",
       "      <th>Dose</th>\n",
       "      <th>CumulativeNumberVaccinated</th>\n",
       "      <th>AgeBand</th>\n",
       "    </tr>\n",
       "  </thead>\n",
       "  <tbody>\n",
       "    <tr>\n",
       "      <th>625</th>\n",
       "      <td>20230401</td>\n",
       "      <td>S92000003</td>\n",
       "      <td>Dose 2</td>\n",
       "      <td>4314673</td>\n",
       "      <td>All vaccinations</td>\n",
       "    </tr>\n",
       "    <tr>\n",
       "      <th>626</th>\n",
       "      <td>20230401</td>\n",
       "      <td>S92000003</td>\n",
       "      <td>Winter Booster 2022</td>\n",
       "      <td>1719597</td>\n",
       "      <td>50 years and over</td>\n",
       "    </tr>\n",
       "    <tr>\n",
       "      <th>627</th>\n",
       "      <td>20230402</td>\n",
       "      <td>S92000003</td>\n",
       "      <td>Dose 1</td>\n",
       "      <td>4558533</td>\n",
       "      <td>All vaccinations</td>\n",
       "    </tr>\n",
       "    <tr>\n",
       "      <th>628</th>\n",
       "      <td>20230402</td>\n",
       "      <td>S92000003</td>\n",
       "      <td>Dose 2</td>\n",
       "      <td>4314673</td>\n",
       "      <td>All vaccinations</td>\n",
       "    </tr>\n",
       "    <tr>\n",
       "      <th>629</th>\n",
       "      <td>20230402</td>\n",
       "      <td>S92000003</td>\n",
       "      <td>Winter Booster 2022</td>\n",
       "      <td>1719597</td>\n",
       "      <td>50 years and over</td>\n",
       "    </tr>\n",
       "  </tbody>\n",
       "</table>\n",
       "</div>"
      ],
      "text/plain": [
       "         Date    Country                 Dose  CumulativeNumberVaccinated  \\\n",
       "625  20230401  S92000003               Dose 2                     4314673   \n",
       "626  20230401  S92000003  Winter Booster 2022                     1719597   \n",
       "627  20230402  S92000003               Dose 1                     4558533   \n",
       "628  20230402  S92000003               Dose 2                     4314673   \n",
       "629  20230402  S92000003  Winter Booster 2022                     1719597   \n",
       "\n",
       "               AgeBand  \n",
       "625   All vaccinations  \n",
       "626  50 years and over  \n",
       "627   All vaccinations  \n",
       "628   All vaccinations  \n",
       "629  50 years and over  "
      ]
     },
     "execution_count": 11,
     "metadata": {},
     "output_type": "execute_result"
    }
   ],
   "source": [
    "vaccination_raw.tail(5)"
   ]
  },
  {
   "cell_type": "code",
   "execution_count": 12,
   "id": "07613053",
   "metadata": {},
   "outputs": [
    {
     "data": {
      "text/plain": [
       "(630, 5)"
      ]
     },
     "execution_count": 12,
     "metadata": {},
     "output_type": "execute_result"
    }
   ],
   "source": [
    "# Determine the number of rows and columns i.e. number of records and features in the dataset\n",
    "vaccination_raw.shape"
   ]
  },
  {
   "cell_type": "code",
   "execution_count": 13,
   "id": "6e6e20de",
   "metadata": {},
   "outputs": [
    {
     "data": {
      "text/plain": [
       "Date                          210\n",
       "Country                         1\n",
       "Dose                            3\n",
       "CumulativeNumberVaccinated    594\n",
       "AgeBand                         2\n",
       "dtype: int64"
      ]
     },
     "execution_count": 13,
     "metadata": {},
     "output_type": "execute_result"
    }
   ],
   "source": [
    "vaccination_raw.nunique()"
   ]
  },
  {
   "cell_type": "code",
   "execution_count": 14,
   "id": "61c2759d",
   "metadata": {},
   "outputs": [],
   "source": [
    "# dropping the Age band column\n",
    "vaccination_raw = vaccination_raw.drop([\"Country\",\"AgeBand\"],axis=1)"
   ]
  },
  {
   "cell_type": "code",
   "execution_count": 15,
   "id": "11e170f9",
   "metadata": {},
   "outputs": [
    {
     "data": {
      "text/html": [
       "<div>\n",
       "<style scoped>\n",
       "    .dataframe tbody tr th:only-of-type {\n",
       "        vertical-align: middle;\n",
       "    }\n",
       "\n",
       "    .dataframe tbody tr th {\n",
       "        vertical-align: top;\n",
       "    }\n",
       "\n",
       "    .dataframe thead th {\n",
       "        text-align: right;\n",
       "    }\n",
       "</style>\n",
       "<table border=\"1\" class=\"dataframe\">\n",
       "  <thead>\n",
       "    <tr style=\"text-align: right;\">\n",
       "      <th></th>\n",
       "      <th>Date</th>\n",
       "      <th>Dose</th>\n",
       "      <th>CumulativeNumberVaccinated</th>\n",
       "    </tr>\n",
       "  </thead>\n",
       "  <tbody>\n",
       "    <tr>\n",
       "      <th>0</th>\n",
       "      <td>20220905</td>\n",
       "      <td>Dose 1</td>\n",
       "      <td>4551004</td>\n",
       "    </tr>\n",
       "    <tr>\n",
       "      <th>1</th>\n",
       "      <td>20220905</td>\n",
       "      <td>Dose 2</td>\n",
       "      <td>4289122</td>\n",
       "    </tr>\n",
       "    <tr>\n",
       "      <th>2</th>\n",
       "      <td>20220905</td>\n",
       "      <td>Winter Booster 2022</td>\n",
       "      <td>7569</td>\n",
       "    </tr>\n",
       "    <tr>\n",
       "      <th>3</th>\n",
       "      <td>20220906</td>\n",
       "      <td>Dose 1</td>\n",
       "      <td>4551059</td>\n",
       "    </tr>\n",
       "    <tr>\n",
       "      <th>4</th>\n",
       "      <td>20220906</td>\n",
       "      <td>Dose 2</td>\n",
       "      <td>4289278</td>\n",
       "    </tr>\n",
       "  </tbody>\n",
       "</table>\n",
       "</div>"
      ],
      "text/plain": [
       "       Date                 Dose  CumulativeNumberVaccinated\n",
       "0  20220905               Dose 1                     4551004\n",
       "1  20220905               Dose 2                     4289122\n",
       "2  20220905  Winter Booster 2022                        7569\n",
       "3  20220906               Dose 1                     4551059\n",
       "4  20220906               Dose 2                     4289278"
      ]
     },
     "execution_count": 15,
     "metadata": {},
     "output_type": "execute_result"
    }
   ],
   "source": [
    "vaccination_raw.head(5)"
   ]
  },
  {
   "cell_type": "code",
   "execution_count": 16,
   "id": "bbd3f328",
   "metadata": {},
   "outputs": [],
   "source": [
    "# Converting the Dose column to categorical\n",
    "vaccination_raw[\"Dose\"] = pd.Categorical(vaccination_raw[\"Dose\"])"
   ]
  },
  {
   "cell_type": "code",
   "execution_count": 17,
   "id": "5c8b7a7d",
   "metadata": {},
   "outputs": [],
   "source": [
    "# Converting the Date column to datetime\n",
    "vaccination_raw['Date'] = pd.to_datetime(vaccination_raw['Date'], format='%Y%m%d')"
   ]
  },
  {
   "cell_type": "code",
   "execution_count": 18,
   "id": "06410448",
   "metadata": {},
   "outputs": [
    {
     "data": {
      "text/html": [
       "<div>\n",
       "<style scoped>\n",
       "    .dataframe tbody tr th:only-of-type {\n",
       "        vertical-align: middle;\n",
       "    }\n",
       "\n",
       "    .dataframe tbody tr th {\n",
       "        vertical-align: top;\n",
       "    }\n",
       "\n",
       "    .dataframe thead th {\n",
       "        text-align: right;\n",
       "    }\n",
       "</style>\n",
       "<table border=\"1\" class=\"dataframe\">\n",
       "  <thead>\n",
       "    <tr style=\"text-align: right;\">\n",
       "      <th></th>\n",
       "      <th>Date</th>\n",
       "      <th>Dose</th>\n",
       "      <th>CumulativeNumberVaccinated</th>\n",
       "    </tr>\n",
       "  </thead>\n",
       "  <tbody>\n",
       "    <tr>\n",
       "      <th>0</th>\n",
       "      <td>2022-09-05</td>\n",
       "      <td>Dose 1</td>\n",
       "      <td>4551004</td>\n",
       "    </tr>\n",
       "    <tr>\n",
       "      <th>1</th>\n",
       "      <td>2022-09-05</td>\n",
       "      <td>Dose 2</td>\n",
       "      <td>4289122</td>\n",
       "    </tr>\n",
       "    <tr>\n",
       "      <th>2</th>\n",
       "      <td>2022-09-05</td>\n",
       "      <td>Winter Booster 2022</td>\n",
       "      <td>7569</td>\n",
       "    </tr>\n",
       "    <tr>\n",
       "      <th>3</th>\n",
       "      <td>2022-09-06</td>\n",
       "      <td>Dose 1</td>\n",
       "      <td>4551059</td>\n",
       "    </tr>\n",
       "    <tr>\n",
       "      <th>4</th>\n",
       "      <td>2022-09-06</td>\n",
       "      <td>Dose 2</td>\n",
       "      <td>4289278</td>\n",
       "    </tr>\n",
       "  </tbody>\n",
       "</table>\n",
       "</div>"
      ],
      "text/plain": [
       "        Date                 Dose  CumulativeNumberVaccinated\n",
       "0 2022-09-05               Dose 1                     4551004\n",
       "1 2022-09-05               Dose 2                     4289122\n",
       "2 2022-09-05  Winter Booster 2022                        7569\n",
       "3 2022-09-06               Dose 1                     4551059\n",
       "4 2022-09-06               Dose 2                     4289278"
      ]
     },
     "execution_count": 18,
     "metadata": {},
     "output_type": "execute_result"
    }
   ],
   "source": [
    "vaccination_raw.head(5)"
   ]
  },
  {
   "cell_type": "code",
   "execution_count": 27,
   "id": "31aeda8e",
   "metadata": {},
   "outputs": [
    {
     "data": {
      "text/plain": [
       "CategoricalDtype(categories=['Dose 1', 'Dose 2', 'Winter Booster 2022'], ordered=False)"
      ]
     },
     "execution_count": 27,
     "metadata": {},
     "output_type": "execute_result"
    }
   ],
   "source": [
    "vaccination_raw['Dose'].dtype # Checking the type of Dose column"
   ]
  },
  {
   "cell_type": "code",
   "execution_count": 30,
   "id": "4d0e7185",
   "metadata": {},
   "outputs": [],
   "source": [
    "vaccination_dose1 = vaccination_raw[vaccination_raw['Dose'] == 'Dose 1']"
   ]
  },
  {
   "cell_type": "code",
   "execution_count": 32,
   "id": "34f48b2b",
   "metadata": {},
   "outputs": [],
   "source": [
    "vaccination_dose2 = vaccination_raw[vaccination_raw['Dose'] == 'Dose 2']"
   ]
  },
  {
   "cell_type": "code",
   "execution_count": 33,
   "id": "1f269a2d",
   "metadata": {},
   "outputs": [],
   "source": [
    "vaccination_booster = vaccination_raw[vaccination_raw['Dose'] == 'Winter Booster 2022']"
   ]
  },
  {
   "cell_type": "code",
   "execution_count": 34,
   "id": "9739c80c",
   "metadata": {},
   "outputs": [
    {
     "data": {
      "image/png": "[encoded data removed]",
      "text/plain": [
       "<Figure size 1000x600 with 1 Axes>"
      ]
     },
     "metadata": {},
     "output_type": "display_data"
    }
   ],
   "source": [
    "# Line plot for Dose 1\n",
    "\n",
    "plt.figure(figsize=(10, 6))\n",
    "plt.plot(vaccination_dose1['Date'], vaccination_dose1['CumulativeNumberVaccinated'])\n",
    "plt.title('Number of Dose 1 vaccination')\n",
    "plt.xlabel('Date')\n",
    "plt.ylabel('Number of vaccines given')\n",
    "plt.grid(False)\n",
    "plt.xticks(rotation=45)\n",
    "plt.tight_layout()\n",
    "plt.show()"
   ]
  },
  {
   "cell_type": "code",
   "execution_count": 36,
   "id": "b7eca014",
   "metadata": {},
   "outputs": [
    {
     "data": {
      "image/png": "[encoded data removed]",
      "text/plain": [
       "<Figure size 1000x600 with 1 Axes>"
      ]
     },
     "metadata": {},
     "output_type": "display_data"
    }
   ],
   "source": [
    "plt.figure(figsize=(10, 6))\n",
    "plt.plot(vaccination_dose2['Date'], vaccination_dose2['CumulativeNumberVaccinated'])\n",
    "plt.title('Number of Dose 2 vaccination')\n",
    "plt.xlabel('Date')\n",
    "plt.ylabel('Number of vaccines given')\n",
    "plt.grid(False)\n",
    "plt.xticks(rotation=45)\n",
    "plt.tight_layout()\n",
    "plt.show()"
   ]
  },
  {
   "cell_type": "code",
   "execution_count": 37,
   "id": "6d74e8ff",
   "metadata": {},
   "outputs": [
    {
     "data": {
      "image/png": "[encoded data removed]",
      "text/plain": [
       "<Figure size 1000x600 with 1 Axes>"
      ]
     },
     "metadata": {},
     "output_type": "display_data"
    }
   ],
   "source": [
    "plt.figure(figsize=(10, 6))\n",
    "plt.plot(vaccination_booster['Date'], vaccination_booster['CumulativeNumberVaccinated'])\n",
    "plt.title('Number of booster vaccination')\n",
    "plt.xlabel('Date')\n",
    "plt.ylabel('Number of vaccines given')\n",
    "plt.grid(False)\n",
    "plt.xticks(rotation=45)\n",
    "plt.tight_layout()\n",
    "plt.show()"
   ]
  },
  {
   "cell_type": "code",
   "execution_count": null,
   "id": "2a37becc",
   "metadata": {},
   "outputs": [],
   "source": []
  },
  {
   "cell_type": "code",
   "execution_count": null,
   "id": "49596285",
   "metadata": {},
   "outputs": [],
   "source": []
  },
  {
   "cell_type": "code",
   "execution_count": null,
   "id": "b4c89b20",
   "metadata": {},
   "outputs": [],
   "source": []
  },
  {
   "cell_type": "code",
   "execution_count": null,
   "id": "becc0ce5",
   "metadata": {},
   "outputs": [],
   "source": []
  },
  {
   "cell_type": "code",
   "execution_count": null,
   "id": "854ef904",
   "metadata": {},
   "outputs": [],
   "source": []
  },
  {
   "cell_type": "code",
   "execution_count": null,
   "id": "26e440ab",
   "metadata": {},
   "outputs": [],
   "source": []
  },
  {
   "cell_type": "code",
   "execution_count": null,
   "id": "86571c44",
   "metadata": {},
   "outputs": [],
   "source": []
  },
  {
   "cell_type": "code",
   "execution_count": null,
   "id": "c3d0560d",
   "metadata": {},
   "outputs": [],
   "source": []
  },
  {
   "cell_type": "code",
   "execution_count": null,
   "id": "cdf9b30b",
   "metadata": {},
   "outputs": [],
   "source": []
  },
  {
   "cell_type": "code",
   "execution_count": null,
   "id": "cb24926d",
   "metadata": {},
   "outputs": [],
   "source": []
  },
  {
   "cell_type": "code",
   "execution_count": null,
   "id": "6de78067",
   "metadata": {},
   "outputs": [],
   "source": []
  },
  {
   "cell_type": "code",
   "execution_count": null,
   "id": "1a12d9f2",
   "metadata": {},
   "outputs": [],
   "source": []
  },
  {
   "cell_type": "code",
   "execution_count": null,
   "id": "3fd035b7",
   "metadata": {},
   "outputs": [],
   "source": []
  },
  {
   "cell_type": "code",
   "execution_count": null,
   "id": "097a7115",
   "metadata": {},
   "outputs": [],
   "source": []
  },
  {
   "cell_type": "code",
   "execution_count": null,
   "id": "770f5d76",
   "metadata": {},
   "outputs": [],
   "source": []
  },
  {
   "cell_type": "code",
   "execution_count": null,
   "id": "2d328d62",
   "metadata": {},
   "outputs": [],
   "source": []
  },
  {
   "cell_type": "code",
   "execution_count": null,
   "id": "43545844",
   "metadata": {},
   "outputs": [],
   "source": []
  },
  {
   "cell_type": "code",
   "execution_count": null,
   "id": "da69b8ea",
   "metadata": {},
   "outputs": [],
   "source": []
  },
  {
   "cell_type": "code",
   "execution_count": null,
   "id": "c9b26f27",
   "metadata": {},
   "outputs": [],
   "source": []
  },
  {
   "cell_type": "code",
   "execution_count": null,
   "id": "9cd9f5fe",
   "metadata": {},
   "outputs": [],
   "source": []
  },
  {
   "cell_type": "code",
   "execution_count": null,
   "id": "bd45368e",
   "metadata": {},
   "outputs": [],
   "source": []
  },
  {
   "cell_type": "code",
   "execution_count": null,
   "id": "9a27f771",
   "metadata": {},
   "outputs": [],
   "source": []
  },
  {
   "cell_type": "code",
   "execution_count": null,
   "id": "ae9f08a7",
   "metadata": {},
   "outputs": [],
   "source": []
  },
  {
   "cell_type": "code",
   "execution_count": null,
   "id": "dc71cf8d",
   "metadata": {},
   "outputs": [],
   "source": []
  },
  {
   "cell_type": "code",
   "execution_count": null,
   "id": "7edd2fcc",
   "metadata": {},
   "outputs": [],
   "source": []
  },
  {
   "cell_type": "code",
   "execution_count": null,
   "id": "3dda68ba",
   "metadata": {},
   "outputs": [],
   "source": []
  },
  {
   "cell_type": "code",
   "execution_count": null,
   "id": "40f9fc53",
   "metadata": {},
   "outputs": [],
   "source": []
  },
  {
   "cell_type": "code",
   "execution_count": null,
   "id": "3d9856c4",
   "metadata": {},
   "outputs": [],
   "source": []
  },
  {
   "cell_type": "code",
   "execution_count": null,
   "id": "293d9d94",
   "metadata": {},
   "outputs": [],
   "source": []
  },
  {
   "cell_type": "code",
   "execution_count": null,
   "id": "42793b0a",
   "metadata": {},
   "outputs": [],
   "source": []
  },
  {
   "cell_type": "code",
   "execution_count": null,
   "id": "78ff31c3",
   "metadata": {},
   "outputs": [],
   "source": []
  },
  {
   "cell_type": "code",
   "execution_count": null,
   "id": "e6149920",
   "metadata": {},
   "outputs": [],
   "source": []
  },
  {
   "cell_type": "code",
   "execution_count": null,
   "id": "6a6cd495",
   "metadata": {},
   "outputs": [],
   "source": []
  }
 ],
 "metadata": {
  "kernelspec": {
   "display_name": "Python 3 (ipykernel)",
   "language": "python",
   "name": "python3"
  },
  "language_info": {
   "codemirror_mode": {
    "name": "ipython",
    "version": 3
   },
   "file_extension": ".py",
   "mimetype": "text/x-python",
   "name": "python",
   "nbconvert_exporter": "python",
   "pygments_lexer": "ipython3",
   "version": "3.10.9"
  }
 },
 "nbformat": 4,
 "nbformat_minor": 5
}
